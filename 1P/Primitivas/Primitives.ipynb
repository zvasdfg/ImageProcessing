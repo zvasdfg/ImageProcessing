{
 "cells": [
  {
   "cell_type": "markdown",
   "metadata": {},
   "source": [
    "### 2D Points Pixel coordinates in images"
   ]
  },
  {
   "cell_type": "markdown",
   "metadata": {},
   "source": [
    "$\\textbf{x} =(x,y) \\in \\mathbb{R}^2$"
   ]
  },
  {
   "cell_type": "markdown",
   "metadata": {},
   "source": [
    "<img src = 'pixel_coordinate.png' width = 500/>"
   ]
  },
  {
   "cell_type": "markdown",
   "metadata": {},
   "source": [
    "## Coordenadas homogéneas"
   ]
  },
  {
   "cell_type": "markdown",
   "metadata": {},
   "source": [
    "$\\mathbf{\\hat{x}} = (\\hat{x},\\hat{y},\\hat{w}) \\in P^2$"
   ]
  },
  {
   "cell_type": "markdown",
   "metadata": {},
   "source": [
    "$\\mathbf{\\hat{x}} = (\\hat{x},\\hat{y},\\hat{w}) = \\hat{w}(x,y,1) = \\hat{w}\\bar{\\mathbf{x}}$"
   ]
  },
  {
   "cell_type": "code",
   "execution_count": 84,
   "metadata": {},
   "outputs": [],
   "source": [
    "import numpy as np\n",
    "def euclidean2D_to_homogeneus(x):\n",
    "    \"\"\"\n",
    "    Convert a 2D point in euclidean space to a projective space\n",
    "    Parameters\n",
    "    ----------\n",
    "    x : np.Array\n",
    "        Point in 2D euclidean space\n",
    "    Returns\n",
    "    -------\n",
    "    x : np.Array\n",
    "        Point in projective space\n",
    "    \"\"\" \n",
    "    assert  (2 == len(x)), 'The argument is not a 2D Point'\n",
    "    x = np.append(x,1)\n",
    "    return x\n",
    "\n",
    "def homogeneus_to_euclidean2D(x):\n",
    "    \"\"\"\n",
    "    Convert a 2D point in projective space to euclidean space\n",
    "    Parameters\n",
    "    ----------\n",
    "    x : np.Array\n",
    "        Point in projective space\n",
    "    Returns\n",
    "    -------\n",
    "    x : np.Array\n",
    "        Point in 2D euclidean space\n",
    "    \"\"\" \n",
    "    assert  (3 == len(x)), 'The argument is not a 3D Point'\n",
    "    assert  (0 != x[2])  , 'x is a point in the infinite, it doesnt '\n",
    "    x=x/x[2]\n",
    "    x = np.delete(x,2)\n",
    "    return x\n",
    "\n",
    "    \n",
    "    "
   ]
  },
  {
   "cell_type": "code",
   "execution_count": 76,
   "metadata": {},
   "outputs": [
    {
     "data": {
      "text/plain": [
       "array([3, 4, 1])"
      ]
     },
     "execution_count": 76,
     "metadata": {},
     "output_type": "execute_result"
    }
   ],
   "source": [
    "x = np.array([3,4])\n",
    "euclidean2D_to_homogeneus(x)"
   ]
  },
  {
   "cell_type": "code",
   "execution_count": 85,
   "metadata": {},
   "outputs": [
    {
     "data": {
      "text/plain": [
       "array([1.5, 2. ])"
      ]
     },
     "execution_count": 85,
     "metadata": {},
     "output_type": "execute_result"
    }
   ],
   "source": [
    "x = np.array([3,4,2])\n",
    "homogeneus_to_euclidean2D(x)"
   ]
  },
  {
   "cell_type": "markdown",
   "metadata": {},
   "source": [
    "## Líneas"
   ]
  },
  {
   "cell_type": "markdown",
   "metadata": {},
   "source": [
    "$ax+by+c = 0$\n",
    "\n",
    "$\\hat{l} = (a,b,c)$\n",
    "\n",
    "$\\bar{\\mathbf{x}} \\cdot \\hat{l} = ax+by+c = 0$\n",
    "\n",
    "$l = (\\hat{n}_x,\\hat{n}_y,d) = (\\mathbf{\\hat{n},d}), con ||\\mathbf{\\hat{n}}|| =1$"
   ]
  },
  {
   "cell_type": "markdown",
   "metadata": {},
   "source": [
    "## Cruce de rectas usando coordenadas homogéneas"
   ]
  },
  {
   "cell_type": "markdown",
   "metadata": {},
   "source": [
    "Piensa en:\n",
    "\n",
    "\n",
    "$\\hat{l}_1: 3x + 5y +2 = 0$\n",
    "\n",
    "$\\hat{l}_2:-4x+6y+1=0$"
   ]
  },
  {
   "cell_type": "code",
   "execution_count": 93,
   "metadata": {},
   "outputs": [],
   "source": [
    "l1 = np.array([2,6,2])\n",
    "l2 = np.array([-5,8,4])"
   ]
  },
  {
   "cell_type": "code",
   "execution_count": 94,
   "metadata": {},
   "outputs": [
    {
     "data": {
      "text/plain": [
       "array([ 0.17391304, -0.39130435])"
      ]
     },
     "execution_count": 94,
     "metadata": {},
     "output_type": "execute_result"
    }
   ],
   "source": [
    "x = np.cross(l1,l2)\n",
    "homogeneus_to_euclidean2D(x)"
   ]
  },
  {
   "cell_type": "markdown",
   "metadata": {},
   "source": [
    "## Recta que une dos puntos"
   ]
  },
  {
   "cell_type": "code",
   "execution_count": 102,
   "metadata": {},
   "outputs": [],
   "source": [
    "x1 = np.array([-7,-4])\n",
    "x2 = np.array([3,1])"
   ]
  },
  {
   "cell_type": "code",
   "execution_count": 103,
   "metadata": {},
   "outputs": [],
   "source": [
    "x1 = euclidean2D_to_homogeneus(x1)\n",
    "x2 = euclidean2D_to_homogeneus(x2)"
   ]
  },
  {
   "cell_type": "code",
   "execution_count": 104,
   "metadata": {},
   "outputs": [
    {
     "data": {
      "text/plain": [
       "array([-5, 10,  5])"
      ]
     },
     "execution_count": 104,
     "metadata": {},
     "output_type": "execute_result"
    }
   ],
   "source": [
    "np.cross(x1,x2)"
   ]
  },
  {
   "cell_type": "markdown",
   "metadata": {},
   "source": [
    "## Puntos en 3D"
   ]
  },
  {
   "cell_type": "markdown",
   "metadata": {},
   "source": [
    "$\\textbf{x} =(x,y,z) \\in \\mathbb{R}^3$\n",
    "\n",
    "$\\mathbf{\\hat{x}} = (\\hat{x},\\hat{y},\\hat{x},\\hat{w}) \\in P^3$\n"
   ]
  },
  {
   "cell_type": "markdown",
   "metadata": {},
   "source": [
    "## Planos"
   ]
  },
  {
   "cell_type": "markdown",
   "metadata": {},
   "source": [
    "$\\bar{\\mathbf{x}} \\cdot \\hat{m}= ax+by+cz+d=0$"
   ]
  }
 ],
 "metadata": {
  "kernelspec": {
   "display_name": "Python 3",
   "language": "python",
   "name": "python3"
  },
  "language_info": {
   "codemirror_mode": {
    "name": "ipython",
    "version": 3
   },
   "file_extension": ".py",
   "mimetype": "text/x-python",
   "name": "python",
   "nbconvert_exporter": "python",
   "pygments_lexer": "ipython3",
   "version": "3.6.9"
  }
 },
 "nbformat": 4,
 "nbformat_minor": 4
}
