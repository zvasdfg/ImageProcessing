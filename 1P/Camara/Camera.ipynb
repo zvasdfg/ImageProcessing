{
 "cells": [
  {
   "cell_type": "markdown",
   "metadata": {},
   "source": [
    "# Modelo Pinhole"
   ]
  },
  {
   "cell_type": "markdown",
   "metadata": {},
   "source": [
    "<img src = 'pinhole.png' width = 300/>"
   ]
  },
  {
   "cell_type": "markdown",
   "metadata": {},
   "source": [
    "<img src = 'pinhole_equations.jpeg' width = 1000/>"
   ]
  },
  {
   "cell_type": "markdown",
   "metadata": {},
   "source": [
    "## Ecuaciones del modelo pinhole"
   ]
  },
  {
   "cell_type": "markdown",
   "metadata": {},
   "source": [
    "$\\frac{x}{f} = \\frac{X}{Z}$\n",
    "\n",
    "$\\frac{y}{f} = \\frac{Y}{Z}$\n",
    "\n",
    "\n",
    "$x = f\\frac{X}{Z}$\n",
    "\n",
    "\n",
    "$y = f\\frac{Y}{Z}$\n"
   ]
  },
  {
   "cell_type": "markdown",
   "metadata": {},
   "source": [
    "$\\begin{pmatrix}\n",
    "x \\\\\n",
    "y\n",
    "\\end{pmatrix} = \\frac{f}{Z} \\begin{pmatrix}\n",
    "X \\\\\n",
    "Y\n",
    "\\end{pmatrix}$"
   ]
  },
  {
   "cell_type": "markdown",
   "metadata": {},
   "source": [
    "## Matriz de calibración"
   ]
  },
  {
   "cell_type": "markdown",
   "metadata": {},
   "source": [
    "$\\begin{pmatrix}\n",
    "x \\\\\n",
    "y\n",
    "\\end{pmatrix} =  \\begin{pmatrix}\n",
    "\\frac{f}{Z}X \\\\\n",
    "\\frac{f}{Z}Y\n",
    "\\end{pmatrix}$\n",
    "\n",
    "$\\begin{pmatrix}\n",
    "x \\\\\n",
    "y \\\\\n",
    "1\n",
    "\\end{pmatrix} =  \\begin{pmatrix}\n",
    "\\frac{f}{Z}X \\\\\n",
    "\\frac{f}{Z}Y\\\\\n",
    "1\n",
    "\\end{pmatrix}$\n",
    "\n",
    "$\\begin{pmatrix}\n",
    "x \\\\\n",
    "y \\\\\n",
    "1\n",
    "\\end{pmatrix} =  \\frac{f}{Z}\\begin{pmatrix}\n",
    "X \\\\\n",
    "Y\\\\\n",
    "\\frac{Z}{f}\n",
    "\\end{pmatrix}$\n",
    "\n",
    "\n",
    "$\\begin{pmatrix}\n",
    "x \\\\\n",
    "y \\\\\n",
    "1\n",
    "\\end{pmatrix} \\sim \\begin{pmatrix}\n",
    "X \\\\\n",
    "Y\\\\\n",
    "\\frac{Z}{f}\n",
    "\\end{pmatrix}$"
   ]
  },
  {
   "cell_type": "markdown",
   "metadata": {},
   "source": [
    "$\\begin{pmatrix}\n",
    "x \\\\\n",
    "y \\\\\n",
    "1\n",
    "\\end{pmatrix} \\sim \\begin{pmatrix}\n",
    "1&0&0&0 \\\\\n",
    "0&1&0&0\\\\\n",
    "0&0&\\frac{1}{f}&0\n",
    "\\end{pmatrix}\\begin{pmatrix}\n",
    "X \\\\\n",
    "Y\\\\\n",
    "Z\n",
    "\\\\\n",
    "1\n",
    "\\end{pmatrix}$"
   ]
  },
  {
   "cell_type": "markdown",
   "metadata": {},
   "source": [
    "$\\begin{pmatrix}\n",
    "1&0&0&0 \\\\\n",
    "0&1&0&0\\\\\n",
    "0&0&\\frac{1}{f}&0\n",
    "\\end{pmatrix}$\n",
    "\n",
    "$\\begin{pmatrix}\n",
    "f&0&0&0 \\\\\n",
    "0&f&0&0\\\\\n",
    "0&0&1&0\n",
    "\\end{pmatrix}$"
   ]
  },
  {
   "cell_type": "markdown",
   "metadata": {},
   "source": [
    "<img src = \"sensor.jpeg\" width = 600/>"
   ]
  },
  {
   "cell_type": "markdown",
   "metadata": {},
   "source": [
    "<img src = \"sensor_sizes.jpg\" width = 1000/>"
   ]
  },
  {
   "cell_type": "markdown",
   "metadata": {},
   "source": [
    "$\\begin{pmatrix}\n",
    "sf&0&0&0 \\\\\n",
    "0&sf&0&0\\\\\n",
    "0&0&1&0\n",
    "\\end{pmatrix}$\n",
    "\n",
    "$\\begin{pmatrix}\n",
    "sf&0&0&c_x \\\\\n",
    "0&sf&0&c_y\\\\\n",
    "0&0&1&0\n",
    "\\end{pmatrix}$\n",
    "\n",
    "$c_x = \\frac{W}{2}$\n",
    "\n",
    "$c_y = \\frac{H}{2}$"
   ]
  },
  {
   "cell_type": "markdown",
   "metadata": {},
   "source": [
    "## Field of view"
   ]
  },
  {
   "cell_type": "markdown",
   "metadata": {},
   "source": [
    "$tan(\\frac{\\theta}{2}) = \\frac{W}{2f}$"
   ]
  },
  {
   "cell_type": "markdown",
   "metadata": {},
   "source": [
    "## Enfoque"
   ]
  },
  {
   "cell_type": "markdown",
   "metadata": {},
   "source": [
    "$\\frac{1}{z_0}+\\frac{1}{z_i} = \\frac{1}{f}$"
   ]
  },
  {
   "cell_type": "markdown",
   "metadata": {},
   "source": [
    "<img src = \"enfoque.png\" />"
   ]
  },
  {
   "cell_type": "code",
   "execution_count": null,
   "metadata": {},
   "outputs": [],
   "source": []
  }
 ],
 "metadata": {
  "kernelspec": {
   "display_name": "Python 3",
   "language": "python",
   "name": "python3"
  },
  "language_info": {
   "codemirror_mode": {
    "name": "ipython",
    "version": 3
   },
   "file_extension": ".py",
   "mimetype": "text/x-python",
   "name": "python",
   "nbconvert_exporter": "python",
   "pygments_lexer": "ipython3",
   "version": "3.6.10"
  }
 },
 "nbformat": 4,
 "nbformat_minor": 4
}
