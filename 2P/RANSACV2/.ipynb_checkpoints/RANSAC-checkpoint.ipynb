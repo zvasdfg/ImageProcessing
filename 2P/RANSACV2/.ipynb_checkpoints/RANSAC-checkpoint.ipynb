{
 "cells": [
  {
   "cell_type": "code",
   "execution_count": 1,
   "metadata": {},
   "outputs": [],
   "source": [
    "import cv2\n",
    "import numpy as np\n",
    "from stich import *\n",
    "import matplotlib.pyplot as plt\n"
   ]
  },
  {
   "cell_type": "markdown",
   "metadata": {},
   "source": [
    "# Homografía"
   ]
  },
  {
   "cell_type": "markdown",
   "metadata": {},
   "source": [
    "<img src = 'transformations.png' />"
   ]
  },
  {
   "cell_type": "markdown",
   "metadata": {},
   "source": [
    "## Queremos encontrar la matriz de homografía que transforme los puntos de una imagen a otra "
   ]
  },
  {
   "cell_type": "markdown",
   "metadata": {},
   "source": [
    "$p_1 = (2,3)$\n",
    "\n",
    "$p_1' = (10,20)$\n",
    "\n",
    "$ \\begin{pmatrix}\n",
    "10w \\\\\n",
    "20w \\\\\n",
    "w\n",
    "\\end{pmatrix}= \n",
    " \\begin{pmatrix}\n",
    "h_{00} & h_{01}& h_{02} \\\\\n",
    "h_{10} & h_{11}& h_{12} \\\\\n",
    "h_{20} & h_{21}& h_{22}\n",
    "\\end{pmatrix} \n",
    "\\begin{pmatrix}\n",
    "2 \\\\\n",
    "3 \\\\\n",
    "1\n",
    "\\end{pmatrix}$"
   ]
  },
  {
   "cell_type": "markdown",
   "metadata": {},
   "source": [
    "## $wp_1' = Hp_1$\n",
    "\n",
    "\n",
    "$ \\begin{pmatrix}\n",
    "wx_1' \\\\\n",
    "wy_1' \\\\\n",
    "w\n",
    "\\end{pmatrix}= \n",
    " \\begin{pmatrix}\n",
    "h_{00} & h_{01}& h_{02} \\\\\n",
    "h_{10} & h_{11}& h_{12} \\\\\n",
    "h_{20} & h_{21}& h_{22}\n",
    "\\end{pmatrix} \n",
    "\\begin{pmatrix}\n",
    "x_1 \\\\\n",
    "y_1 \\\\\n",
    "1\n",
    "\\end{pmatrix}$"
   ]
  },
  {
   "cell_type": "markdown",
   "metadata": {},
   "source": [
    "$wx_1' = h_{00}x_1 +  h_{01}y_1+ h_{02}$\n",
    "\n",
    "$wy_1' = h_{10}x_1 +  h_{11}y_1+ h_{12}$\n",
    "\n",
    "$w = h_{20}x_1 +  h_{21}y_1+ h_{22}$\n"
   ]
  },
  {
   "cell_type": "markdown",
   "metadata": {},
   "source": [
    "$(h_{20}x_1 +  h_{21}y_1+ h_{22})x_1' = h_{00}x_1 +  h_{01}y_1+ h_{02}$\n",
    "\n",
    "$(h_{20}x_1 +  h_{21}y_1+ h_{22})y_1' = h_{10}x_1 +  h_{11}y_1+ h_{12}$"
   ]
  },
  {
   "cell_type": "markdown",
   "metadata": {},
   "source": [
    "$h_{00}x_1 +  h_{01}y_1+ h_{02}-(h_{20}x_1 +  h_{21}y_1+ h_{22})x_1'=0$\n",
    "\n",
    "$h_{10}x_1 +  h_{11}y_1+ h_{12}-(h_{20}x_1 +  h_{21}y_1+ h_{22})y_1'=0$"
   ]
  },
  {
   "cell_type": "markdown",
   "metadata": {},
   "source": [
    "<img src =\"HOM.png\" />"
   ]
  },
  {
   "cell_type": "markdown",
   "metadata": {},
   "source": [
    "<img src =\"HOM2.png\" />"
   ]
  },
  {
   "cell_type": "markdown",
   "metadata": {},
   "source": [
    "$Ah =0$\n",
    "\n",
    "minimizar $||Ah||$"
   ]
  },
  {
   "cell_type": "markdown",
   "metadata": {},
   "source": [
    "# Resolver con mínimos cuadrados"
   ]
  },
  {
   "cell_type": "code",
   "execution_count": 2,
   "metadata": {},
   "outputs": [],
   "source": [
    "img1 = cv2.imread('Ejemplo/1.jpg')\n",
    "img2 = cv2.imread('Ejemplo/2.jpg')"
   ]
  },
  {
   "cell_type": "code",
   "execution_count": 3,
   "metadata": {},
   "outputs": [],
   "source": [
    "kp1, des1 = detect_compute_sift(img1)\n",
    "kp2, des2 = detect_compute_sift(img2)"
   ]
  },
  {
   "cell_type": "code",
   "execution_count": 8,
   "metadata": {},
   "outputs": [],
   "source": [
    "matches = get_matches(des1,des2)"
   ]
  },
  {
   "cell_type": "code",
   "execution_count": 15,
   "metadata": {},
   "outputs": [
    {
     "data": {
      "text/plain": [
       "7"
      ]
     },
     "execution_count": 15,
     "metadata": {},
     "output_type": "execute_result"
    }
   ],
   "source": [
    "matches[0].trainIdx\n",
    "matches[0].queryIdx"
   ]
  },
  {
   "cell_type": "code",
   "execution_count": 22,
   "metadata": {},
   "outputs": [],
   "source": [
    "pts1 = np.float32([kp1[matches[i].queryIdx] for i in range(len(matches))])\n",
    "pts2 = np.float32([kp2[matches[i].trainIdx] for i in range(len(matches))])"
   ]
  },
  {
   "cell_type": "code",
   "execution_count": null,
   "metadata": {},
   "outputs": [],
   "source": [
    "(H, status) = cv2.findHomography(pts1, pts2, cv2.RANSAC,4)"
   ]
  },
  {
   "cell_type": "code",
   "execution_count": null,
   "metadata": {},
   "outputs": [],
   "source": [
    "result = cv2.warpPerspective(img1, H,(img1.shape[1] + img2.shape[1], img1.shape[0]))\n",
    "result[0:img2.shape[0], 0:img2.shape[1]] = img2"
   ]
  },
  {
   "cell_type": "code",
   "execution_count": null,
   "metadata": {
    "scrolled": true
   },
   "outputs": [],
   "source": [
    "plt.figure(figsize = (20,20))\n",
    "\n",
    "plt.imshow(cv2.cvtColor(result,cv2.COLOR_BGR2RGB))"
   ]
  },
  {
   "cell_type": "code",
   "execution_count": null,
   "metadata": {},
   "outputs": [],
   "source": [
    "## $x_1' = \\frac{h_{00}x_1 +  h_{01}y_1+ h_{02}}{h_{20}x_1 +  h_{21}y_1+ h_{22}}$\n",
    "## $y_1' = \\frac{h_{10}x_1 +  h_{11}y_1+ h_{12}}{h_{20}x_1 +  h_{21}y_1+ h_{22}}$"
   ]
  },
  {
   "cell_type": "code",
   "execution_count": null,
   "metadata": {},
   "outputs": [],
   "source": []
  }
 ],
 "metadata": {
  "kernelspec": {
   "display_name": "Python 3",
   "language": "python",
   "name": "python3"
  },
  "language_info": {
   "codemirror_mode": {
    "name": "ipython",
    "version": 3
   },
   "file_extension": ".py",
   "mimetype": "text/x-python",
   "name": "python",
   "nbconvert_exporter": "python",
   "pygments_lexer": "ipython3",
   "version": "3.6.10"
  }
 },
 "nbformat": 4,
 "nbformat_minor": 2
}
